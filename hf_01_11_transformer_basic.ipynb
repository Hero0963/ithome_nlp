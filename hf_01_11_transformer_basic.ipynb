{
  "cells": [
    {
      "cell_type": "markdown",
      "metadata": {
        "id": "view-in-github",
        "colab_type": "text"
      },
      "source": [
        "<a href=\"https://colab.research.google.com/github/Hero0963/ithome_nlp/blob/main/hf_01_11_transformer_basic.ipynb\" target=\"_parent\"><img src=\"https://colab.research.google.com/assets/colab-badge.svg\" alt=\"Open In Colab\"/></a>"
      ]
    },
    {
      "cell_type": "code",
      "execution_count": null,
      "id": "cd015ea8",
      "metadata": {
        "id": "cd015ea8"
      },
      "outputs": [],
      "source": [
        "# ref = https://ithelp.ithome.com.tw/articles/10299984"
      ]
    },
    {
      "cell_type": "code",
      "execution_count": null,
      "id": "c9ae9aec",
      "metadata": {
        "id": "c9ae9aec"
      },
      "outputs": [],
      "source": [
        "from transformers import AutoTokenizer\n",
        "\n",
        "tokenizer_name = \"distilbert-base-uncased-finetuned-sst-2-english\"\n",
        "tokenizer = AutoTokenizer.from_pretrained(tokenizer_name)"
      ]
    },
    {
      "cell_type": "code",
      "execution_count": null,
      "id": "d5bd4c28",
      "metadata": {
        "id": "d5bd4c28",
        "outputId": "e52fa60f-8adc-433c-e347-1c019977a782"
      },
      "outputs": [
        {
          "name": "stdout",
          "output_type": "stream",
          "text": [
            "{'input_ids': tensor([[  101,  2069,  2216,  2040,  2097,  3891,  2183,  2205,  2521,  2064,\n",
            "          4298,  2424,  2041,  2129,  2521,  2028,  2064,  2175,  1012,   102],\n",
            "        [  101,  3336, 11420,  1010, 20160, 20160, 20160, 20160, 20160, 20160,\n",
            "          1010,  3336, 11420,   999,   102,     0,     0,     0,     0,     0],\n",
            "        [  101,  2069,  2216,  2040,  2097,  3891,  2183,  2205,  2521,  2064,\n",
            "          5791,  2424,  2041,  2129,  2521,  2028,  2064,  2175,  1012,   102]]), 'attention_mask': tensor([[1, 1, 1, 1, 1, 1, 1, 1, 1, 1, 1, 1, 1, 1, 1, 1, 1, 1, 1, 1],\n",
            "        [1, 1, 1, 1, 1, 1, 1, 1, 1, 1, 1, 1, 1, 1, 1, 0, 0, 0, 0, 0],\n",
            "        [1, 1, 1, 1, 1, 1, 1, 1, 1, 1, 1, 1, 1, 1, 1, 1, 1, 1, 1, 1]])}\n"
          ]
        }
      ],
      "source": [
        "string_arr = [\n",
        "    \"Only those who will risk going too far can possibly find out how far one can go.\",\n",
        "    \"Baby shark, doo doo doo doo doo doo, Baby shark!\",\n",
        "     \"Only those who will risk going too far can definitely find out how far one can go.\",\n",
        "]\n",
        "inputs = tokenizer(string_arr, padding=True, truncation=True, return_tensors=\"pt\")\n",
        "print(inputs)"
      ]
    },
    {
      "cell_type": "code",
      "execution_count": null,
      "id": "e384012c",
      "metadata": {
        "id": "e384012c"
      },
      "outputs": [],
      "source": [
        "from transformers import AutoModelForSequenceClassification\n",
        "\n",
        "model_name = \"distilbert-base-uncased-finetuned-sst-2-english\"\n",
        "model = AutoModelForSequenceClassification.from_pretrained(model_name)\n",
        "outputs = model(**inputs)"
      ]
    },
    {
      "cell_type": "code",
      "execution_count": null,
      "id": "89cbce6f",
      "metadata": {
        "id": "89cbce6f",
        "outputId": "ab0fb7e0-dda2-457c-9174-54000e78bfe5"
      },
      "outputs": [
        {
          "name": "stdout",
          "output_type": "stream",
          "text": [
            "tensor([[ 0.9738, -0.8098],\n",
            "        [-1.1881,  1.2323],\n",
            "        [-2.0359,  1.9290]], grad_fn=<AddmmBackward0>)\n"
          ]
        }
      ],
      "source": [
        "print(outputs.logits)"
      ]
    },
    {
      "cell_type": "code",
      "execution_count": null,
      "id": "3d9ef4bb",
      "metadata": {
        "id": "3d9ef4bb",
        "outputId": "5d26c8ee-94fc-4c92-c6b7-952d0c9b79a6"
      },
      "outputs": [
        {
          "name": "stdout",
          "output_type": "stream",
          "text": [
            "tensor([[0.8561, 0.1439],\n",
            "        [0.0816, 0.9184],\n",
            "        [0.0186, 0.9814]], grad_fn=<SoftmaxBackward0>)\n"
          ]
        }
      ],
      "source": [
        "import torch\n",
        "\n",
        "predictions = torch.nn.functional.softmax(outputs.logits, dim=-1)\n",
        "print(predictions)"
      ]
    },
    {
      "cell_type": "code",
      "execution_count": null,
      "id": "1dd5ae4b",
      "metadata": {
        "id": "1dd5ae4b",
        "outputId": "b3beb7dc-dcff-4936-d85c-2c496d547365"
      },
      "outputs": [
        {
          "data": {
            "text/plain": [
              "{0: 'NEGATIVE', 1: 'POSITIVE'}"
            ]
          },
          "execution_count": 7,
          "metadata": {},
          "output_type": "execute_result"
        }
      ],
      "source": [
        "model.config.id2label"
      ]
    }
  ],
  "metadata": {
    "kernelspec": {
      "display_name": "Python 3 (ipykernel)",
      "language": "python",
      "name": "python3"
    },
    "language_info": {
      "codemirror_mode": {
        "name": "ipython",
        "version": 3
      },
      "file_extension": ".py",
      "mimetype": "text/x-python",
      "name": "python",
      "nbconvert_exporter": "python",
      "pygments_lexer": "ipython3",
      "version": "3.8.15"
    },
    "colab": {
      "provenance": [],
      "include_colab_link": true
    }
  },
  "nbformat": 4,
  "nbformat_minor": 5
}